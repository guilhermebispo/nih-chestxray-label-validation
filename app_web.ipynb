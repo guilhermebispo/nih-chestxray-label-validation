{
  "cells": [
    {
      "cell_type": "markdown",
      "metadata": {
        "colab_type": "text",
        "id": "view-in-github"
      },
      "source": [
        "<a href=\"https://colab.research.google.com/github/guilhermebispo/nih-chestxray-label-validation/blob/main/app_web.ipynb\" target=\"_parent\"><img src=\"https://colab.research.google.com/assets/colab-badge.svg\" alt=\"Open In Colab\"/></a>"
      ]
    },
    {
      "cell_type": "markdown",
      "id": "7e0d39df",
      "metadata": {
        "id": "7e0d39df"
      },
      "source": [
        "# NIH Chest X-ray Labeler — Colab (Public URL only)\n",
        "\n",
        "This notebook sets up a **minimal Flask web app** to label NIH Chest X-ray images with **Portuguese labels**, collect **expert name + CRM**, and save annotations incrementally to CSV. Access is provided via a **public Cloudflared URL** (no account required).\n",
        "\n",
        "**Output file:** `/content/web_labeler/data/labels_experts.csv`\n"
      ]
    },
    {
      "cell_type": "markdown",
      "id": "7c725d7f",
      "metadata": {
        "id": "7c725d7f"
      },
      "source": [
        "## 1) Install dependencies"
      ]
    },
    {
      "cell_type": "code",
      "execution_count": null,
      "id": "50e43ac2",
      "metadata": {
        "colab": {
          "base_uri": "https://localhost:8080/"
        },
        "id": "50e43ac2",
        "outputId": "1e0b2891-60d0-4c26-b3dd-e1d8445afc5a"
      },
      "outputs": [
        {
          "name": "stdout",
          "output_type": "stream",
          "text": [
            "✅ Dependencies installed\n"
          ]
        }
      ],
      "source": [
        "!pip -q install flask==3.0.3 pandas==2.2.2\n",
        "!wget -q https://github.com/cloudflare/cloudflared/releases/latest/download/cloudflared-linux-amd64.deb\n",
        "!dpkg -i cloudflared-linux-amd64.deb >/dev/null 2>&1 || true\n",
        "print('✅ Dependencies installed')"
      ]
    },
    {
      "cell_type": "markdown",
      "id": "9c76ec4a",
      "metadata": {
        "id": "9c76ec4a"
      },
      "source": [
        "## 2) Fetch sample CSV and images from your GitHub repo"
      ]
    },
    {
      "cell_type": "code",
      "execution_count": null,
      "id": "1e6bd531",
      "metadata": {
        "colab": {
          "base_uri": "https://localhost:8080/"
        },
        "id": "1e6bd531",
        "outputId": "69b09951-6ceb-4aad-f628-ceb3d7a8a5cf"
      },
      "outputs": [
        {
          "name": "stdout",
          "output_type": "stream",
          "text": [
            "Cloning into 'nih-chestxray-label-validation'...\n",
            "remote: Enumerating objects: 20, done.\u001b[K\n",
            "remote: Counting objects: 100% (20/20), done.\u001b[K\n",
            "remote: Compressing objects: 100% (19/19), done.\u001b[K\n",
            "remote: Total 20 (delta 1), reused 11 (delta 0), pack-reused 0 (from 0)\u001b[K\n",
            "Receiving objects: 100% (20/20), 3.12 MiB | 9.04 MiB/s, done.\n",
            "Resolving deltas: 100% (1/1), done.\n",
            "✅ Copied CSV and images into /content/web_labeler/...\n"
          ]
        }
      ],
      "source": [
        "!rm -rf nih-chestxray-label-validation\n",
        "!git clone https://github.com/guilhermebispo/nih-chestxray-label-validation.git\n",
        "\n",
        "import os, shutil\n",
        "os.makedirs('/content/web_labeler/data', exist_ok=True)\n",
        "os.makedirs('/content/web_labeler/static/images', exist_ok=True)\n",
        "\n",
        "shutil.copy('/content/nih-chestxray-label-validation/sample_labels.csv', '/content/web_labeler/data/sample_labels.csv')\n",
        "\n",
        "for f in os.listdir('/content/nih-chestxray-label-validation/images'):\n",
        "    src = f'/content/nih-chestxray-label-validation/images/{f}'\n",
        "    dst = f'/content/web_labeler/static/images/{f}'\n",
        "    shutil.copy(src, dst)\n",
        "print('✅ Copied CSV and images into /content/web_labeler/...')"
      ]
    },
    {
      "cell_type": "markdown",
      "id": "54572b4f",
      "metadata": {
        "id": "54572b4f"
      },
      "source": [
        "## 3) Create Flask app (PT-BR labels, name & CRM, autosave)"
      ]
    },
    {
      "cell_type": "code",
      "execution_count": null,
      "id": "86190f05",
      "metadata": {
        "colab": {
          "base_uri": "https://localhost:8080/"
        },
        "id": "86190f05",
        "outputId": "145eff40-ccfb-41ce-f686-47753f0b97a1"
      },
      "outputs": [
        {
          "name": "stdout",
          "output_type": "stream",
          "text": [
            "✅ Saved Flask app to /content/web_labeler_app.py\n"
          ]
        }
      ],
      "source": [
        "from pathlib import Path\n",
        "\n",
        "app_path = Path('/content/web_labeler_app.py')\n",
        "\n",
        "app_code = '''from flask import Flask, request, render_template_string, redirect, url_for\n",
        "import os, csv\n",
        "from pathlib import Path\n",
        "from datetime import datetime\n",
        "import pandas as pd\n",
        "\n",
        "APP_DIR = Path('/content/web_labeler')\n",
        "DATA_DIR = APP_DIR / 'data'\n",
        "IMG_DIR  = APP_DIR / 'static' / 'images'\n",
        "CSV_NIH  = DATA_DIR / 'sample_labels.csv'\n",
        "CSV_OUT  = DATA_DIR / 'labels_experts.csv'\n",
        "\n",
        "DATA_DIR.mkdir(parents=True, exist_ok=True)\n",
        "IMG_DIR.mkdir(parents=True, exist_ok=True)\n",
        "\n",
        "LABEL_MAP_PT2EN = {\n",
        "    'Sem achado': 'No Finding',\n",
        "    'Atelectasia': 'Atelectasis',\n",
        "    'Cardiomegalia': 'Cardiomegaly',\n",
        "    'Derrame pleural': 'Effusion',\n",
        "    'Infiltração': 'Infiltration',\n",
        "    'Massa': 'Mass',\n",
        "    'Nódulo': 'Nodule',\n",
        "    'Pneumonia': 'Pneumonia',\n",
        "    'Pneumotórax': 'Pneumothorax',\n",
        "    'Consolidação': 'Consolidation',\n",
        "    'Edema': 'Edema',\n",
        "    'Enfisema': 'Emphysema',\n",
        "    'Fibrose': 'Fibrosis',\n",
        "    'Espessamento pleural': 'Pleural_Thickening',\n",
        "    'Hérnia': 'Hernia',\n",
        "}\n",
        "LABELS_PT = list(LABEL_MAP_PT2EN.keys())\n",
        "\n",
        "# === Defina aqui os especialistas e seus CRMs (edite conforme necessário) ===\n",
        "SPECIALISTS = [\n",
        "    ('Dr. Ana Silva', 'CRM_ANA_000'),\n",
        "    ('Dr. Bruno Souza', 'CRM_BRUNO_111'),\n",
        "    ('Dra. Carla Lima', 'CRM_CARLA_222'),\n",
        "]\n",
        "# ========================================================================\n",
        "\n",
        "app = Flask(\n",
        "    __name__,\n",
        "    static_folder=str(APP_DIR / 'static'),\n",
        "    static_url_path='/static'\n",
        ")\n",
        "\n",
        "def load_available_images():\n",
        "    if not CSV_NIH.exists():\n",
        "        files = [p.name for p in IMG_DIR.glob('*') if p.suffix.lower() in {'.png','.jpg','.jpeg','.bmp','.tif','.tiff'}]\n",
        "        return sorted(files)\n",
        "    df = pd.read_csv(CSV_NIH)\n",
        "    names = df['Image Index'].astype(str).tolist()\n",
        "    return [n for n in names if (IMG_DIR / n).exists()]\n",
        "\n",
        "def ensure_out_header():\n",
        "    if not CSV_OUT.exists() or CSV_OUT.stat().st_size == 0:\n",
        "        with open(CSV_OUT, 'w', newline='', encoding='utf-8') as f:\n",
        "            w = csv.writer(f)\n",
        "            w.writerow(['timestamp','especialista','crm','imagem','rotulos_pt','rotulos_nih','acao'])\n",
        "\n",
        "@app.route('/')\n",
        "def index():\n",
        "    i = int(request.args.get('i', 0))\n",
        "    # leitura de valores para preencher select (persistência)\n",
        "    selected_esp = request.args.get('especialista', '') or ''\n",
        "    selected_crm = request.args.get('crm', '') or ''\n",
        "    files = load_available_images()\n",
        "    total = len(files)\n",
        "    if total == 0:\n",
        "        return '<h3>Nenhuma imagem encontrada em static/images. Coloque as imagens lá (nomes iguais ao \\\"Image Index\\\").</h3>'\n",
        "    if i >= total:\n",
        "        return '<h3>✅ Fim da lista. <a href=\\\"/?i=0\\\">Reiniciar</a></h3>'\n",
        "    img_name = files[i]\n",
        "\n",
        "    # lista de nomes para lógica de OUTRO\n",
        "    specialist_names = [name for name, _ in SPECIALISTS]\n",
        "\n",
        "    html = \"\"\"\n",
        "<!doctype html>\n",
        "<html lang='pt-br'>\n",
        "<head>\n",
        "  <meta charset='utf-8'>\n",
        "  <title>Rotulador de Raios-X</title>\n",
        "  <style>\n",
        "    :root { --gap:18px; --card-pad:18px; }\n",
        "    html,body { height:100%; margin:0; font-family: Arial, sans-serif; background:#f5f7fb; color:#222; }\n",
        "    .page { padding:18px; box-sizing:border-box; width:100%; }\n",
        "    .full-card { width:100%; box-sizing:border-box; border-radius:10px; background:#eef6ff; border-left:6px solid #2563eb; padding:18px; margin-bottom:16px; box-shadow:0 0 8px rgba(0,0,0,0.06); }\n",
        "    .card { width:100%; box-sizing:border-box; border-radius:10px; background:#fff; padding:var(--card-pad); box-shadow:0 0 8px rgba(0,0,0,0.06); margin-bottom:12px; }\n",
        "    .header-title { margin:0; font-size:1.8rem; }\n",
        "    .meta { margin-top:6px; font-size:1rem; color:#333; }\n",
        "    .content-row { display:flex; gap:var(--gap); margin-top:12px; align-items:flex-start; }\n",
        "    .left { flex:0 0 55%; }\n",
        "    .right { flex:1; max-width:43%; }\n",
        "    .image-wrap img { width:100%; height:auto; border-radius:8px; display:block; margin:0 auto; }\n",
        "    .image-name { text-align:center; margin-top:8px; font-weight:600; color:#333; }\n",
        "    .labels { padding:10px; max-height:68vh; overflow:auto; }\n",
        "    .labels label { display:block; margin-bottom:8px; font-size:0.98rem; }\n",
        "    .controls { margin-top:14px; display:flex; gap:8px; flex-wrap:wrap; justify-content:flex-start; }\n",
        "    button { margin:0; padding:10px 14px; border:none; border-radius:8px; cursor:pointer; }\n",
        "    .save { background:#16a34a; color:#fff; }\n",
        "    .skip { background:#f59e0b; color:#fff; }\n",
        "    .unknown { background:#6b7280; color:#fff; }\n",
        "    @media (max-width:900px){\n",
        "      .content-row { flex-direction:column; }\n",
        "      .right { max-width:none; }\n",
        "      .left { flex:0 0 auto; }\n",
        "      .image-wrap img { width:100%; }\n",
        "    }\n",
        "  </style>\n",
        "</head>\n",
        "<body>\n",
        "  <div class=\"page\">\n",
        "    <div class=\"full-card\">\n",
        "      <h1 class=\"header-title\">NIH Chest X-ray Labeler</h1>\n",
        "      <div class=\"meta\">\n",
        "        <div><strong>Autor:</strong> <span style=\"font-size:16px;\">Guilherme Dantas Bispo</span></div>\n",
        "        <div><strong>Afiliação:</strong> Doutorado, Departamento de Engenharia Elétrica (PPGEE), UnB</div>\n",
        "      </div>\n",
        "    </div>\n",
        "\n",
        "    <!-- card exclusivo para identificação do médico -->\n",
        "    <div class=\"card\">\n",
        "      <div style=\"font-weight:600;margin-bottom:8px;\">Identificação do Médico</div>\n",
        "      <label><b>Especialista:</b></label><br>\n",
        "      <select id=\"esp_select_card\" style=\"width:100%;padding:8px;border-radius:6px;border:1px solid #ccc;\">\n",
        "        <option value=''>-- selecione --</option>\n",
        "        {% for name, crm in specialists %}\n",
        "          <option value='{{name}}' data-crm='{{crm}}' {% if selected_esp == name %}selected{% endif %}>{{name}} — {{crm}}</option>\n",
        "        {% endfor %}\n",
        "        <option value='OUTRO' data-crm='' {% if selected_esp and selected_esp not in specialist_names %}selected{% endif %}>Outro...</option>\n",
        "      </select>\n",
        "      <input type=\"text\" id=\"esp_other_card\" placeholder=\"Digite nome do especialista\" style=\"width:100%;padding:8px;margin-top:8px;border:1px solid #ccc;border-radius:6px; {% if not (selected_esp and selected_esp not in specialist_names) %}display:none;{% endif %}\" value=\"{% if selected_esp and selected_esp not in specialist_names %}{{selected_esp}}{% endif %}\">\n",
        "      <div style=\"margin-top:8px;color:#666;font-size:0.9rem;\">Seleção obrigatória — será mantida ao avançar.</div>\n",
        "    </div>\n",
        "\n",
        "    <div class=\"card\">\n",
        "      <form id=\"labelForm\" method=\"POST\" action='{{ url_for(\"submit\") }}'>\n",
        "        <input type='hidden' name='i' value='{{i}}'>\n",
        "        <input type='hidden' name='img' value='{{img_name}}'>\n",
        "        <!-- hidden inputs para receber especialista/CRM do card acima -->\n",
        "        <input type='hidden' name='especialista' id='especialista_hidden' value='{{selected_esp}}'>\n",
        "        <input type='hidden' name='crm' id='crm_hidden' value='{{selected_crm}}'>\n",
        "\n",
        "        <h2 style=\"margin-top:0;\">Rotulagem de Raios-X ({{i+1}} / {{total}})</h2>\n",
        "\n",
        "        <div class=\"content-row\">\n",
        "          <div class=\"left image-wrap\">\n",
        "            <img src='{{ url_for(\"static\", filename=\"images/\" + img_name) }}' alt=\"imagem\">\n",
        "            <div class=\"image-name\">{{img_name}}</div>\n",
        "          </div>\n",
        "          <div class=\"right\">\n",
        "            <div style=\"font-weight:600;margin-bottom:8px;\">Patologias (em português)</div>\n",
        "            <div class=\"labels\">\n",
        "              {% for lbl in labels %}\n",
        "                <label><input type=\"checkbox\" name=\"labels\" value=\"{{lbl}}\"> {{lbl}}</label>\n",
        "              {% endfor %}\n",
        "            </div>\n",
        "            <div style=\"font-size:0.9rem;color:#666;margin-top:8px;\"><i>'Sem achado' é exclusivo.</i></div>\n",
        "\n",
        "            <!-- botões abaixo das patologias -->\n",
        "            <div class=\"controls\">\n",
        "              <button class=\"save\" name=\"action\" value=\"SAVE\" type=\"submit\">Salvar e Próxima</button>\n",
        "              <button class=\"skip\" name=\"action\" value=\"SKIP\" formmethod=\"post\">Pular</button>\n",
        "              <button class=\"unknown\" name=\"action\" value=\"UNKNOWN\" formmethod=\"post\">Indefinido</button>\n",
        "            </div>\n",
        "\n",
        "          </div>\n",
        "        </div>\n",
        "\n",
        "      </form>\n",
        "    </div>\n",
        "\n",
        "  </div>\n",
        "\n",
        "  <script>\n",
        "    const espSelectCard = document.getElementById('esp_select_card');\n",
        "    const espOtherCard = document.getElementById('esp_other_card');\n",
        "    const espHidden = document.getElementById('especialista_hidden');\n",
        "    const crmHidden = document.getElementById('crm_hidden');\n",
        "    const form = document.getElementById('labelForm');\n",
        "\n",
        "    espSelectCard.addEventListener('change', ()=>{\n",
        "      const sel = espSelectCard.options[espSelectCard.selectedIndex];\n",
        "      const crmVal = sel ? sel.getAttribute('data-crm') || '' : '';\n",
        "      if(espSelectCard.value === 'OUTRO'){\n",
        "        espOtherCard.style.display = 'block';\n",
        "        espOtherCard.required = true;\n",
        "        espHidden.value = '';\n",
        "        crmHidden.value = '';\n",
        "      } else {\n",
        "        espOtherCard.style.display = 'none';\n",
        "        espOtherCard.required = false;\n",
        "        espHidden.value = espSelectCard.value;\n",
        "        crmHidden.value = crmVal;\n",
        "      }\n",
        "    });\n",
        "\n",
        "    form.addEventListener('submit', (e)=>{\n",
        "      // verifica seleção do médico (obrigatória)\n",
        "      if(espSelectCard.value === 'OUTRO'){\n",
        "        if(!espOtherCard.value.trim()){\n",
        "          alert('Por favor informe o nome do especialista.');\n",
        "          e.preventDefault();\n",
        "          return;\n",
        "        }\n",
        "        espHidden.value = espOtherCard.value.trim();\n",
        "        crmHidden.value = '';\n",
        "      } else {\n",
        "        // se usuário não selecionou nada\n",
        "        if(!espHidden.value || espHidden.value.trim()===''){\n",
        "          alert('Por favor selecione o especialista.');\n",
        "          e.preventDefault();\n",
        "          return;\n",
        "        }\n",
        "      }\n",
        "      // antes de enviar, anexa especialista/crm como query params na próxima página (serão adicionados pelo servidor)\n",
        "    });\n",
        "\n",
        "    // 'Sem achado' exclusivo\n",
        "    const boxes = document.querySelectorAll('input[type=checkbox]');\n",
        "    const noneBox = Array.from(boxes).find(b => b.value === 'Sem achado');\n",
        "    const others = Array.from(boxes).filter(b => b.value !== 'Sem achado');\n",
        "    if(noneBox){\n",
        "      noneBox.addEventListener('change', ()=>{ if(noneBox.checked){ others.forEach(o=>o.checked=false); }});\n",
        "      others.forEach(o=>o.addEventListener('change', ()=>{ if(o.checked && noneBox.checked){ noneBox.checked=false; }}));\n",
        "    }\n",
        "  </script>\n",
        "</body></html>\n",
        "\"\"\"\n",
        "    return render_template_string(\n",
        "        html,\n",
        "        img_name=img_name,\n",
        "        labels=LABELS_PT,\n",
        "        specialists=SPECIALISTS,\n",
        "        i=i,\n",
        "        total=total,\n",
        "        selected_esp=selected_esp,\n",
        "        selected_crm=selected_crm,\n",
        "        specialist_names=specialist_names\n",
        "    )\n",
        "\n",
        "@app.post('/submit')\n",
        "def submit():\n",
        "    ensure_out_header()\n",
        "    i = int(request.form.get('i', '0'))\n",
        "    img = request.form.get('img')\n",
        "    esp = request.form.get('especialista','').strip()\n",
        "    crm = request.form.get('crm','').strip()\n",
        "    action = request.form.get('action','SAVE').upper()\n",
        "    labels_pt = request.form.getlist('labels')\n",
        "    if 'Sem achado' in labels_pt:\n",
        "        labels_pt = ['Sem achado']\n",
        "    labels_nih = [LABEL_MAP_PT2EN[l] for l in labels_pt] if labels_pt else []\n",
        "    with open(CSV_OUT, 'a', newline='', encoding='utf-8') as f:\n",
        "        w = csv.writer(f)\n",
        "        w.writerow([datetime.utcnow().isoformat(), esp, crm, img, '|'.join(labels_pt), '|'.join(labels_nih), action])\n",
        "    # Persiste seleção do especialista na próxima página via query params\n",
        "    if esp:\n",
        "        return redirect(url_for('index', i=i+1, especialista=esp, crm=crm))\n",
        "    return redirect(url_for('index', i=i+1))\n",
        "\n",
        "# Run Flask in background thread (port 7860). Cloudflared will expose it publicly.\n",
        "def run_flask():\n",
        "    app.run(host='0.0.0.0', port=7860, debug=False, use_reloader=False)\n",
        "\n",
        "if __name__ == '__main__':\n",
        "    import threading, time\n",
        "    t = threading.Thread(target=run_flask, daemon=True)\n",
        "    t.start()\n",
        "    time.sleep(2)\n",
        "    print('✅ Flask started on http://127.0.0.1:7860')\n",
        "'''\n",
        "\n",
        "app_path.write_text(app_code, encoding='utf-8')\n",
        "print('✅ Saved Flask app to', str(app_path))"
      ]
    },
    {
      "cell_type": "markdown",
      "id": "9f5f057c",
      "metadata": {
        "id": "9f5f057c"
      },
      "source": [
        "## 4) Start public URL (Cloudflared)"
      ]
    },
    {
      "cell_type": "code",
      "execution_count": null,
      "id": "5b40004c",
      "metadata": {
        "colab": {
          "base_uri": "https://localhost:8080/"
        },
        "id": "5b40004c",
        "outputId": "d3b4d0d5-4c84-48f5-e981-7543a00be760"
      },
      "outputs": [
        {
          "name": "stdout",
          "output_type": "stream",
          "text": [
            " * Serving Flask app 'web_labeler_app'\n",
            " * Debug mode: off\n"
          ]
        },
        {
          "name": "stderr",
          "output_type": "stream",
          "text": [
            "INFO:werkzeug:\u001b[31m\u001b[1mWARNING: This is a development server. Do not use it in a production deployment. Use a production WSGI server instead.\u001b[0m\n",
            " * Running on all addresses (0.0.0.0)\n",
            " * Running on http://127.0.0.1:7860\n",
            " * Running on http://172.28.0.12:7860\n",
            "INFO:werkzeug:\u001b[33mPress CTRL+C to quit\u001b[0m\n"
          ]
        },
        {
          "name": "stdout",
          "output_type": "stream",
          "text": [
            "🚇 Starting cloudflared tunnel...\n",
            "✅ Flask started on http://127.0.0.1:7860\n",
            "🌐 Public URL: https://stranger-judy-hope-pull.trycloudflare.com\n"
          ]
        }
      ],
      "source": [
        "import subprocess, re, time, threading, runpy\n",
        "\n",
        "# Start Flask in background by executing the app file\n",
        "def _run_app():\n",
        "    runpy.run_path('/content/web_labeler_app.py', run_name='__main__')\n",
        "threading.Thread(target=_run_app, daemon=True).start()\n",
        "time.sleep(2)\n",
        "\n",
        "print('🚇 Starting cloudflared tunnel...')\n",
        "proc = subprocess.Popen(\n",
        "    ['cloudflared', 'tunnel', '--url', 'http://localhost:7860', '--no-autoupdate'],\n",
        "    stdout=subprocess.PIPE, stderr=subprocess.STDOUT, text=True\n",
        ")\n",
        "public_url = None\n",
        "for _ in range(1200):\n",
        "    line = proc.stdout.readline()\n",
        "    if not line:\n",
        "        time.sleep(0.1)\n",
        "        continue\n",
        "    m = re.search(r'(https://[a-z0-9-]+\\.trycloudflare\\.com)', line.strip())\n",
        "    if m:\n",
        "        public_url = m.group(1)\n",
        "        print('🌐 Public URL:', public_url)\n",
        "        break\n",
        "if not public_url:\n",
        "    print('⚠️ Could not capture public URL. Check logs above.')"
      ]
    },
    {
      "cell_type": "code",
      "execution_count": null,
      "id": "bmBslyTfCtmo",
      "metadata": {
        "id": "bmBslyTfCtmo"
      },
      "outputs": [],
      "source": []
    }
  ],
  "metadata": {
    "colab": {
      "include_colab_link": true,
      "provenance": []
    },
    "kernelspec": {
      "display_name": "Python 3",
      "language": "python",
      "name": "python3"
    },
    "language_info": {
      "name": "python",
      "pygments_lexer": "ipython3"
    }
  },
  "nbformat": 4,
  "nbformat_minor": 5
}
